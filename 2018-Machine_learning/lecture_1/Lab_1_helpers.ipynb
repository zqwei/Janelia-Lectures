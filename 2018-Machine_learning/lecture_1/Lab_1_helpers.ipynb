{
 "cells": [
  {
   "cell_type": "code",
   "execution_count": 1,
   "metadata": {
    "collapsed": true
   },
   "outputs": [],
   "source": [
    "# imports \n",
    "%matplotlib inline\n",
    "\n",
    "from IPython.display import YouTubeVideo\n",
    "from IPython.display import Math\n",
    "\n",
    "import sklearn\n",
    "from sklearn import datasets, linear_model\n",
    "from sklearn.linear_model import LinearRegression\n",
    "\n",
    "import numpy as np\n",
    "import numpy.random as rng\n",
    "\n",
    "import matplotlib\n",
    "import matplotlib.pyplot as plt\n",
    "\n",
    "from sklearn.datasets import fetch_20newsgroups"
   ]
  },
  {
   "cell_type": "code",
   "execution_count": 7,
   "metadata": {},
   "outputs": [],
   "source": [
    "# diabetes_data\n",
    "diabetes_data = datasets.load_diabetes()\n",
    "?diabetes_data"
   ]
  },
  {
   "cell_type": "code",
   "execution_count": 11,
   "metadata": {},
   "outputs": [
    {
     "data": {
      "text/plain": [
       "(442, 10)"
      ]
     },
     "execution_count": 11,
     "metadata": {},
     "output_type": "execute_result"
    }
   ],
   "source": [
    "diabetes_data.data"
   ]
  },
  {
   "cell_type": "code",
   "execution_count": 15,
   "metadata": {},
   "outputs": [
    {
     "data": {
      "text/plain": [
       "(100, 10)"
      ]
     },
     "execution_count": 15,
     "metadata": {},
     "output_type": "execute_result"
    }
   ],
   "source": [
    "N = len(diabetes_data.target)\n",
    "i = rng.randint(0,N-1,100)\n",
    "diabetes_data.data[i,].shape"
   ]
  },
  {
   "cell_type": "code",
   "execution_count": 26,
   "metadata": {},
   "outputs": [
    {
     "data": {
      "text/plain": [
       "(100, 10)"
      ]
     },
     "execution_count": 26,
     "metadata": {},
     "output_type": "execute_result"
    }
   ],
   "source": [
    "\n",
    "X_train = diabetes_data.data[i,:]\n",
    "y_train = diabetes_data.target[i]\n",
    "X_train.shape"
   ]
  },
  {
   "cell_type": "code",
   "execution_count": 29,
   "metadata": {},
   "outputs": [
    {
     "data": {
      "text/plain": [
       "(10,)"
      ]
     },
     "execution_count": 29,
     "metadata": {},
     "output_type": "execute_result"
    }
   ],
   "source": [
    "# A linear model\n",
    "model = LinearRegression()\n",
    "\n",
    "# Train the model using the training sets\n",
    "# i.e., find parameters that make the model best fit the data\n",
    "model.fit(X_train, y_train)\n",
    "\n",
    "# What are the parameters we found to be best?\n",
    "# print('Optimal parameters: ')\n",
    "# print('slope: {:.3f}\\nintercept: {:.3f}'.format(model.coef_[0], model.intercept_ ))\n",
    "model.coef_.shape"
   ]
  },
  {
   "cell_type": "code",
   "execution_count": 31,
   "metadata": {
    "collapsed": true
   },
   "outputs": [],
   "source": [
    "y_pred = model.predict(X_train)"
   ]
  },
  {
   "cell_type": "code",
   "execution_count": 36,
   "metadata": {},
   "outputs": [
    {
     "data": {
      "text/plain": [
       "<matplotlib.text.Text at 0x115767fd0>"
      ]
     },
     "execution_count": 36,
     "metadata": {},
     "output_type": "execute_result"
    },
    {
     "data": {
      "image/png": "[encoded data removed]",
      "text/plain": [
       "<matplotlib.figure.Figure at 0x11579fdd8>"
      ]
     },
     "metadata": {},
     "output_type": "display_data"
    }
   ],
   "source": [
    "plt.scatter( X_train[:,2], y_train )\n",
    "plt.scatter( X_train[:,2], y_pred, color='black', linewidth=2 )\n",
    "plt.ylabel('Diabetes progression')\n",
    "# plt.xlabel('Average blood pressure');"
   ]
  },
  {
   "cell_type": "code",
   "execution_count": 37,
   "metadata": {},
   "outputs": [
    {
     "data": {
      "text/plain": [
       "(array([  3.,   2.,   5.,  14.,  20.,  19.,  16.,   7.,   9.,   5.]),\n",
       " array([-143.85043319, -117.27310364,  -90.69577409,  -64.11844454,\n",
       "         -37.54111499,  -10.96378544,   15.61354411,   42.19087366,\n",
       "          68.76820321,   95.34553276,  121.92286231]),\n",
       " <a list of 10 Patch objects>)"
      ]
     },
     "execution_count": 37,
     "metadata": {},
     "output_type": "execute_result"
    },
    {
     "data": {
      "image/png": "[encoded data removed]",
      "text/plain": [
       "<matplotlib.figure.Figure at 0x12c8e6c50>"
      ]
     },
     "metadata": {},
     "output_type": "display_data"
    }
   ],
   "source": [
    "plt.hist( y_pred - y_train )"
   ]
  },
  {
   "cell_type": "code",
   "execution_count": 45,
   "metadata": {},
   "outputs": [
    {
     "data": {
      "text/plain": [
       "100"
      ]
     },
     "execution_count": 45,
     "metadata": {},
     "output_type": "execute_result"
    }
   ],
   "source": [
    "X_train.shape[0]\n"
   ]
  },
  {
   "cell_type": "code",
   "execution_count": 55,
   "metadata": {},
   "outputs": [
    {
     "data": {
      "text/plain": [
       "tuple"
      ]
     },
     "execution_count": 55,
     "metadata": {},
     "output_type": "execute_result"
    }
   ],
   "source": [
    "type( (1,1))"
   ]
  },
  {
   "cell_type": "code",
   "execution_count": 57,
   "metadata": {},
   "outputs": [],
   "source": [
    "X1 = np.concatenate( (X_train, np.ones((X_train.shape[0], 1))), axis=1 ) \n",
    "X1.shape\n",
    "\n",
    "p,resid,rank,s = np.linalg.lstsq( X1, y_train ) # Note this is not explicitly computing the SVD\n",
    "y_linsolv_pred = np.matmul( X1, p ); # Compare this to the previous output\n"
   ]
  },
  {
   "cell_type": "code",
   "execution_count": 65,
   "metadata": {},
   "outputs": [],
   "source": [
    "# y_linsolv_pred - y_pred"
   ]
  },
  {
   "cell_type": "code",
   "execution_count": 60,
   "metadata": {},
   "outputs": [
    {
     "data": {
      "text/plain": [
       "(100, 10)"
      ]
     },
     "execution_count": 60,
     "metadata": {},
     "output_type": "execute_result"
    }
   ],
   "source": [
    "X_train.shape"
   ]
  },
  {
   "cell_type": "code",
   "execution_count": 73,
   "metadata": {},
   "outputs": [
    {
     "data": {
      "text/plain": [
       "4"
      ]
     },
     "execution_count": 73,
     "metadata": {},
     "output_type": "execute_result"
    }
   ],
   "source": [
    "alist = [1,2,3,4,5]\n"
   ]
  },
  {
   "cell_type": "code",
   "execution_count": 92,
   "metadata": {},
   "outputs": [
    {
     "data": {
      "text/plain": [
       "(100, 3)"
      ]
     },
     "execution_count": 92,
     "metadata": {},
     "output_type": "execute_result"
    }
   ],
   "source": [
    "X_train_poly = X_train[:,[1,2]]\n",
    "X_train_poly\n",
    "\n",
    "X_poly = np.concatenate(( np.ones((X_train_poly.shape[0], 1)), X_train_poly ), axis=1 )\n",
    "X_poly.shape"
   ]
  },
  {
   "cell_type": "code",
   "execution_count": 90,
   "metadata": {},
   "outputs": [
    {
     "data": {
      "text/plain": [
       "(1, 100)"
      ]
     },
     "execution_count": 90,
     "metadata": {},
     "output_type": "execute_result"
    }
   ],
   "source": [
    "X_poly.shape\n",
    "\n",
    "# (X_train_poly[:,0]**2).reshape(100,1).shape"
   ]
  },
  {
   "cell_type": "code",
   "execution_count": 93,
   "metadata": {},
   "outputs": [
    {
     "data": {
      "text/plain": [
       "(100, 6)"
      ]
     },
     "execution_count": 93,
     "metadata": {},
     "output_type": "execute_result"
    }
   ],
   "source": [
    "X_poly = np.concatenate(( X_poly, (X_train_poly[:,np.newaxis,0]**2) ), axis=1 )\n",
    "X_poly = np.concatenate(( X_poly, (X_train_poly[:,np.newaxis,1]**2) ), axis=1 )\n",
    "X_poly = np.concatenate(( X_poly, X_train_poly[:,np.newaxis,0]*X_train_poly[:,np.newaxis,1] ), axis=1 )\n",
    "X_poly.shape"
   ]
  },
  {
   "cell_type": "code",
   "execution_count": 94,
   "metadata": {
    "collapsed": true
   },
   "outputs": [],
   "source": [
    "p_poly,resid,rank,s = np.linalg.lstsq( X_poly, y_train ) # Note this is not explicitly computing the SVD\n",
    "y_pred_poly_lsq = np.matmul( X_poly, p_poly ); # Compare this to the previous output\n"
   ]
  },
  {
   "cell_type": "code",
   "execution_count": 96,
   "metadata": {},
   "outputs": [],
   "source": [
    "from sklearn.preprocessing import PolynomialFeatures\n",
    "from sklearn.pipeline import Pipeline\n",
    "\n",
    "poly_model = Pipeline(\n",
    "    [('poly', PolynomialFeatures(degree=2)), \n",
    "     ('linear', LinearRegression())])\n",
    "\n",
    "poly_model.fit( X_train_poly, y_train )\n",
    "y_pred_poly = poly_model.predict( X_train_poly )\n"
   ]
  },
  {
   "cell_type": "code",
   "execution_count": 97,
   "metadata": {},
   "outputs": [
    {
     "data": {
      "text/plain": [
       "array([ -8.52651283e-14,   0.00000000e+00,  -8.52651283e-14,\n",
       "        -2.84217094e-14,  -2.84217094e-14,  -9.94759830e-14,\n",
       "        -4.26325641e-14,  -9.94759830e-14,  -2.84217094e-14,\n",
       "        -9.94759830e-14,  -5.68434189e-14,  -8.52651283e-14,\n",
       "        -9.94759830e-14,  -2.84217094e-14,   0.00000000e+00,\n",
       "        -8.52651283e-14,  -5.68434189e-14,  -2.84217094e-14,\n",
       "        -5.68434189e-14,  -8.52651283e-14,  -9.94759830e-14,\n",
       "         0.00000000e+00,   0.00000000e+00,  -5.68434189e-14,\n",
       "        -4.26325641e-14,  -9.94759830e-14,   0.00000000e+00,\n",
       "        -8.52651283e-14,  -9.94759830e-14,   0.00000000e+00,\n",
       "        -2.84217094e-14,  -9.94759830e-14,  -4.26325641e-14,\n",
       "         2.84217094e-14,  -2.84217094e-14,  -2.84217094e-14,\n",
       "        -8.52651283e-14,  -1.13686838e-13,   2.84217094e-14,\n",
       "        -2.84217094e-14,  -4.26325641e-14,   0.00000000e+00,\n",
       "        -2.84217094e-14,  -5.68434189e-14,   2.84217094e-14,\n",
       "        -9.94759830e-14,  -2.84217094e-14,  -5.68434189e-14,\n",
       "        -9.94759830e-14,  -5.68434189e-14,  -8.52651283e-14,\n",
       "        -5.68434189e-14,  -4.26325641e-14,  -2.84217094e-14,\n",
       "        -5.68434189e-14,  -9.94759830e-14,   2.84217094e-14,\n",
       "         0.00000000e+00,  -8.52651283e-14,  -8.52651283e-14,\n",
       "        -2.84217094e-14,   0.00000000e+00,   0.00000000e+00,\n",
       "         2.84217094e-14,  -8.52651283e-14,  -5.68434189e-14,\n",
       "         0.00000000e+00,  -2.84217094e-14,  -2.84217094e-14,\n",
       "        -8.52651283e-14,   0.00000000e+00,  -8.52651283e-14,\n",
       "        -5.68434189e-14,  -2.84217094e-14,  -8.52651283e-14,\n",
       "        -5.68434189e-14,   8.52651283e-14,   2.84217094e-14,\n",
       "        -9.94759830e-14,  -8.52651283e-14,  -5.68434189e-14,\n",
       "        -2.84217094e-14,  -8.52651283e-14,  -5.68434189e-14,\n",
       "        -9.94759830e-14,  -8.52651283e-14,  -2.84217094e-14,\n",
       "        -2.84217094e-14,   1.13686838e-13,  -5.68434189e-14,\n",
       "        -2.84217094e-14,   5.68434189e-14,  -2.84217094e-14,\n",
       "        -8.52651283e-14,   8.52651283e-14,  -5.68434189e-14,\n",
       "        -2.84217094e-14,  -2.84217094e-14,   2.84217094e-14,\n",
       "        -5.68434189e-14])"
      ]
     },
     "execution_count": 97,
     "metadata": {},
     "output_type": "execute_result"
    }
   ],
   "source": [
    "y_pred_poly - y_pred_poly_lsq"
   ]
  },
  {
   "cell_type": "markdown",
   "metadata": {},
   "source": [
    "## Generating random data"
   ]
  },
  {
   "cell_type": "code",
   "execution_count": null,
   "metadata": {
    "collapsed": true
   },
   "outputs": [],
   "source": []
  },
  {
   "cell_type": "code",
   "execution_count": 3,
   "metadata": {},
   "outputs": [
    {
     "data": {
      "image/png": "[encoded data removed]",
      "text/plain": [
       "<matplotlib.figure.Figure at 0x11313b898>"
      ]
     },
     "metadata": {},
     "output_type": "display_data"
    }
   ],
   "source": [
    "# get 1000x2 random samples from a normal (gaussian) distribution\n",
    "# These have mean = 0, and variance = 1\n",
    "x_normal = rng.randn(1000,2) \n",
    "\n",
    "# You can change the variance with multiplication\n",
    "# now, the first column has variance 2\n",
    "x_normal[:,0] = x_normal[:,0] * 2\n",
    "\n",
    "# You can change the mean with addition\n",
    "# now, the second column as mean 5\n",
    "x_normal[:,1] = x_normal[:,1] + 5\n",
    "\n",
    "# lets plot a histogram of both columns\n",
    "# notice that it is smart about separating the two colums into different histograms\n",
    "plt.hist( x_normal, bins=30 );"
   ]
  },
  {
   "cell_type": "markdown",
   "metadata": {},
   "source": [
    "# Try another distribution\n",
    "Look at [the documentation](https://docs.scipy.org/doc/numpy-1.14.0/reference/routines.random.html) for numpy and try generating random data from a different distribution.\n",
    "* What are the parameters of the distribution you chose?"
   ]
  },
  {
   "cell_type": "markdown",
   "metadata": {},
   "source": [
    "# Matrix\n",
    "\n",
    "## Build a matrix"
   ]
  },
  {
   "cell_type": "code",
   "execution_count": 4,
   "metadata": {},
   "outputs": [
    {
     "name": "stdout",
     "output_type": "stream",
     "text": [
      "[[2, 3], [4, 5]]\n",
      " \n",
      "[[2 3]\n",
      " [4 5]]\n",
      " \n",
      "[[ -0.5]\n",
      " [ 10. ]]\n"
     ]
    }
   ],
   "source": [
    "a_list = [2, 3]\n",
    "another_list = [4, 5]\n",
    "a_list_of_lists = [a_list, another_list]\n",
    "print( a_list_of_lists )\n",
    "print( ' ' )\n",
    "\n",
    "a_matrix = np.array(a_list_of_lists)\n",
    "print( a_matrix )\n",
    "print( ' ' )\n",
    "\n",
    "a_vector = np.array( [[-0.5], [10]]) # write it like this so it's a column vector\n",
    "print( a_vector )"
   ]
  },
  {
   "cell_type": "markdown",
   "metadata": {},
   "source": [
    "## Matrix-vector multiply"
   ]
  },
  {
   "cell_type": "code",
   "execution_count": 5,
   "metadata": {},
   "outputs": [
    {
     "name": "stdout",
     "output_type": "stream",
     "text": [
      "[[ 29.]\n",
      " [ 48.]]\n",
      " \n",
      "[[ 29.]\n",
      " [ 48.]]\n"
     ]
    }
   ],
   "source": [
    "M_times_v = np.matmul( a_matrix, a_vector )\n",
    "print( M_times_v )\n",
    "print( ' ' )\n",
    "\n",
    "# Another way to write this - see that the result is the same\n",
    "print( a_matrix @ a_vector ) "
   ]
  },
  {
   "cell_type": "markdown",
   "metadata": {},
   "source": [
    "# Don't ever solve a linear system with an inverse matrix\n",
    "* Seriously, you promised\n",
    "\n",
    "The code below solves a linear system in two different ways, first by computing the matrix inverse then multiplying.  Then using a smart way `np.linalg.solve`) "
   ]
  },
  {
   "cell_type": "code",
   "execution_count": 6,
   "metadata": {},
   "outputs": [
    {
     "name": "stdout",
     "output_type": "stream",
     "text": [
      "it took 6.622621774673462 s the slow way\n",
      "it took 1.6969609260559082 s the fast way\n",
      "are the results different? : False\n"
     ]
    }
   ],
   "source": [
    "import time\n",
    "\n",
    "# Try making it bigger than 2000, if you dare \n",
    "# (maybe stay under 10k)\n",
    "\n",
    "medium_mtx = np.array( rng.rand( 2000, 2000 ) )\n",
    "medium_vec = np.array( rng.rand( 2000, 1 ) )\n",
    "\n",
    "# Solve by computing the matrix inverse, then multiplying\n",
    "# See how long it takes\n",
    "t0 = time.time()\n",
    "slow_result = np.linalg.inv( medium_mtx ) @ medium_vec\n",
    "t1 = time.time()\n",
    "print( 'it took {} s the slow way'.format( t1-t0 ))\n",
    "\n",
    "# Solve in a smart way\n",
    "# See how long it takes\n",
    "t0_f = time.time()\n",
    "fast_result = np.linalg.solve( medium_mtx, medium_vec )\n",
    "t1_f = time.time()\n",
    "print( 'it took {} s the fast way'.format( t1_f - t0_f ))\n",
    "\n",
    "# Check that the results are the same\n",
    "# Subtract the results and see if any of the elements are bigger than a tiny number\n",
    "print( 'are the results different? : {}'.format( np.any( ( slow_result - fast_result ) > 1e-6 )))"
   ]
  },
  {
   "cell_type": "markdown",
   "metadata": {},
   "source": [
    "## Bonus\n",
    "\n",
    "Learn about [Toeplitz](https://en.wikipedia.org/wiki/Toeplitz_matrix) matrices. Notices there's a [special way to solve them](https://docs.scipy.org/doc/scipy/reference/generated/scipy.linalg.solve_toeplitz.html#scipy.linalg.solve_toeplitz).  Try it - see how the speed compares to solving the random matrix above"
   ]
  },
  {
   "cell_type": "code",
   "execution_count": null,
   "metadata": {
    "collapsed": true
   },
   "outputs": [],
   "source": []
  }
 ],
 "metadata": {
  "kernelspec": {
   "display_name": "Python [default]",
   "language": "python",
   "name": "python3"
  },
  "language_info": {
   "codemirror_mode": {
    "name": "ipython",
    "version": 3
   },
   "file_extension": ".py",
   "mimetype": "text/x-python",
   "name": "python",
   "nbconvert_exporter": "python",
   "pygments_lexer": "ipython3",
   "version": "3.6.2"
  }
 },
 "nbformat": 4,
 "nbformat_minor": 2
}
